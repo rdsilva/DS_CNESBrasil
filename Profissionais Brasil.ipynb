{
 "cells": [
  {
   "cell_type": "markdown",
   "metadata": {},
   "source": [
    "### Evolução dos Profissionais de Saúde no Brasil de 2008 -> 2018"
   ]
  },
  {
   "cell_type": "code",
   "execution_count": null,
   "metadata": {},
   "outputs": [],
   "source": [
    "library(\"read.dbc\")"
   ]
  },
  {
   "cell_type": "code",
   "execution_count": 1,
   "metadata": {},
   "outputs": [],
   "source": [
    "path <- \"/Users/rsilva/Documents/Estudos/CNES/DBCs\""
   ]
  },
  {
   "cell_type": "code",
   "execution_count": 2,
   "metadata": {},
   "outputs": [],
   "source": [
    "setwd(path)"
   ]
  },
  {
   "cell_type": "markdown",
   "metadata": {},
   "source": [
    "##### Funções de Apoio"
   ]
  },
  {
   "cell_type": "code",
   "execution_count": null,
   "metadata": {},
   "outputs": [],
   "source": [
    "reduce = function(data){\n",
    "    tmp <- lapply(data, function(x) subset(x, select = c(\"CPF_PROF\",\n",
    "                                                            \"CNS_PROF\",\n",
    "                                                            \"CBO\",\n",
    "                                                            \"TP_UNID\",\n",
    "                                                            \"CODUFMUN\",\n",
    "                                                            \"PROF_SUS\",\n",
    "                                                            \"PROFNSUS\")))\n",
    "\n",
    "    return(tmp)\n",
    "}"
   ]
  },
  {
   "cell_type": "markdown",
   "metadata": {},
   "source": [
    "##### Estudo dos Dados"
   ]
  },
  {
   "cell_type": "code",
   "execution_count": null,
   "metadata": {},
   "outputs": [],
   "source": [
    "tst <- read.dbc(\"PFAC0508.dbc\")"
   ]
  },
  {
   "cell_type": "code",
   "execution_count": null,
   "metadata": {},
   "outputs": [],
   "source": [
    "str(tst)"
   ]
  },
  {
   "cell_type": "code",
   "execution_count": null,
   "metadata": {},
   "outputs": [],
   "source": [
    "tst2 <- read.dbc(\"PFAC1804.dbc\")"
   ]
  },
  {
   "cell_type": "code",
   "execution_count": null,
   "metadata": {},
   "outputs": [],
   "source": [
    "str(tst2)"
   ]
  },
  {
   "cell_type": "markdown",
   "metadata": {},
   "source": [
    "##### Dados de 2008"
   ]
  },
  {
   "cell_type": "code",
   "execution_count": null,
   "metadata": {},
   "outputs": [],
   "source": [
    "pattern <- \"0508\""
   ]
  },
  {
   "cell_type": "code",
   "execution_count": null,
   "metadata": {},
   "outputs": [],
   "source": [
    "filestrsave <- \"profissionais-2008.csv\"\n",
    "\n",
    "# listando os arquivos\n",
    "listoffiles <- list.files(path, pattern = pattern)\n",
    "\n",
    "# abrindo os arquivos\n",
    "setwd(path)\n",
    "myfiles = lapply(listoffiles, read.dbc)\n",
    "\n",
    "# filtrando os arquivos\n",
    "result_tmp <- reduce(myfiles)\n",
    "\n",
    "# unificando todos os arquivos em um só\n",
    "result = do.call(rbind, result_tmp)\n",
    "\n",
    "# salvando o arquivo reduzido\n",
    "write.csv2(result, filestrsave, row.names=FALSE)\n",
    "\n",
    "gc()"
   ]
  },
  {
   "cell_type": "code",
   "execution_count": null,
   "metadata": {},
   "outputs": [],
   "source": [
    "pattern <- \"1804\""
   ]
  },
  {
   "cell_type": "code",
   "execution_count": null,
   "metadata": {},
   "outputs": [],
   "source": [
    "filestrsave <- \"profissionais-2018.csv\"\n",
    "\n",
    "# listando os arquivos\n",
    "listoffiles <- list.files(path, pattern = pattern)\n",
    "\n",
    "# abrindo os arquivos\n",
    "setwd(path)\n",
    "myfiles = lapply(listoffiles, read.dbc)\n",
    "\n",
    "# filtrando os arquivos\n",
    "result_tmp <- reduce(myfiles)\n",
    "\n",
    "# unificando todos os arquivos em um só\n",
    "result = do.call(rbind, result_tmp)\n",
    "\n",
    "# salvando o arquivo reduzido\n",
    "write.csv2(result, filestrsave, row.names=FALSE)\n",
    "\n",
    "gc()"
   ]
  },
  {
   "cell_type": "markdown",
   "metadata": {},
   "source": [
    "##### Comparações"
   ]
  },
  {
   "cell_type": "code",
   "execution_count": null,
   "metadata": {},
   "outputs": [],
   "source": [
    "prof08 <- read.csv2(\"profissionais-2008.csv\", header=TRUE, sep=\";\")"
   ]
  },
  {
   "cell_type": "code",
   "execution_count": null,
   "metadata": {},
   "outputs": [],
   "source": [
    "prof18 <- read.csv2(\"profissionais-2018.csv\", header=TRUE, sep=\";\")"
   ]
  },
  {
   "cell_type": "code",
   "execution_count": null,
   "metadata": {},
   "outputs": [],
   "source": []
  },
  {
   "cell_type": "code",
   "execution_count": null,
   "metadata": {},
   "outputs": [],
   "source": []
  },
  {
   "cell_type": "code",
   "execution_count": null,
   "metadata": {},
   "outputs": [],
   "source": []
  },
  {
   "cell_type": "code",
   "execution_count": null,
   "metadata": {},
   "outputs": [],
   "source": []
  },
  {
   "cell_type": "code",
   "execution_count": null,
   "metadata": {},
   "outputs": [],
   "source": []
  },
  {
   "cell_type": "code",
   "execution_count": null,
   "metadata": {},
   "outputs": [],
   "source": []
  }
 ],
 "metadata": {
  "kernelspec": {
   "display_name": "R",
   "language": "R",
   "name": "ir"
  },
  "language_info": {
   "codemirror_mode": "r",
   "file_extension": ".r",
   "mimetype": "text/x-r-source",
   "name": "R",
   "pygments_lexer": "r",
   "version": "3.4.2"
  }
 },
 "nbformat": 4,
 "nbformat_minor": 2
}
